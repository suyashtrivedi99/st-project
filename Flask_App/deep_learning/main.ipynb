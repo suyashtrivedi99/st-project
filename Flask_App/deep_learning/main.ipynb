{
 "cells": [
  {
   "cell_type": "code",
   "execution_count": null,
   "metadata": {},
   "outputs": [],
   "source": [
    "#importing all necessary libraries\n",
    "from keras.models import Sequential    #For initialising the model\n",
    "from keras.layers import Conv2D        #For adding convolutional layer\n",
    "from keras.layers import MaxPooling2D  #For adding max pooling layer\n",
    "from keras.layers import Flatten       #For flattening max pooled layer values into a single vector\n",
    "from keras.layers import Dense         #For adding layers to NN\n",
    "\n",
    "import glob             #for accessing all the images\n",
    "import numpy as np      #for handling the images as numpy arrays \n",
    "from PIL import Image   #for resizing the images\n",
    "\n",
    "from sklearn import preprocessing, model_selection as ms  #for splitting data into Training, Cross - Validating, and Testing parts\n",
    "from keras.preprocessing.image import ImageDataGenerator  #for image augmentation\n",
    "import h5py                                               #for saving the model\n",
    "from keras.models import load_model                       #for loading the model\n",
    "\n",
    "import matplotlib.pyplot as plt  #for plotting training and cross validation accuracies vs epochs"
   ]
  },
  {
   "cell_type": "code",
   "execution_count": null,
   "metadata": {},
   "outputs": [],
   "source": [
    "def cnn_model(h_layers, features, neurons):        #returns the model with desired parameters\n",
    "    model = Sequential() #initialise the model\n",
    "\n",
    "    model.add( Conv2D( features, (3, 3),input_shape = (64, 64, 3), activation = 'relu' )) #Dims of feature map = 3*3, accepting 64*64 pixels grayscale images\n",
    "    model.add( MaxPooling2D( pool_size = (2, 2) )) #add max pooling layer, with dims of each pool = 2*2\n",
    "    model.add( Flatten() ) #add flattening layer \n",
    "    \n",
    "    for i in range( h_layers ):  #add all hidden layers\n",
    "        model.add( Dense( units = neurons, activation = 'relu' ))\n",
    "        \n",
    "    model.add( Dense( units = 1, activation = 'sigmoid' ))  #add an output layer\n",
    "\n",
    "    model.compile( optimizer = 'adam', loss = 'binary_crossentropy', metrics = ['accuracy'] )  #define optimizer and loss functions as well as required metrics\n",
    "\n",
    "    return model"
   ]
  },
  {
   "cell_type": "code",
   "execution_count": null,
   "metadata": {},
   "outputs": [],
   "source": [
    "h_layers = 1   #no. of hidden layers\n",
    "features = 32  #no. of feature maps \n",
    "neurons = 128  #no. of neurons in each hidden layer\n",
    "\n",
    "X_data = [] #list for holding all images as numpy arrays\n",
    "y_data = [] #list for holding the labels corresponding to the respective images"
   ]
  },
  {
   "cell_type": "code",
   "execution_count": null,
   "metadata": {},
   "outputs": [],
   "source": [
    "PosImages = glob.glob(r'Parasitized\\*.*') #path to all positive(infected) images\n",
    "NegImages = glob.glob(r'Uninfected\\*.*')  #path to all negative(uinfected) images\n",
    "\n",
    "for file in PosImages:                    #resizing all positive images and converting them to numpy arrays\n",
    "    img = Image.open(file)\n",
    "    img_resized = img.resize((64, 64))\n",
    "    img_array = np.asarray(img_resized)\n",
    "    \n",
    "    X_data.append(img_array)\n",
    "    y_data.append(1)\n",
    "\n",
    "for file in NegImages:                    #resizing all negative images and converting them to numpy arrays\n",
    "    img = Image.open(file)\n",
    "    img_resized = img.resize((64, 64))\n",
    "    img_array = np.asarray(img_resized)\n",
    "    \n",
    "    X_data.append(img_array)\n",
    "    y_data.append(0)"
   ]
  },
  {
   "cell_type": "code",
   "execution_count": null,
   "metadata": {},
   "outputs": [],
   "source": [
    "#converting the lists to numpy arrays(for flow method)\n",
    "X_data = np.array(X_data)  \n",
    "y_data = np.array(y_data)\n",
    "\n",
    "m = X_data.shape[0]  #no. of samples\n",
    "\n",
    "rand_idx = np.arange(m)     #generating indices\n",
    "np.random.shuffle(rand_idx) #randomising indices\n",
    "\n",
    "#randomly shuffling all the positive and negative samples\n",
    "X_data = X_data[rand_idx]   \n",
    "y_data = y_data[rand_idx]\n",
    "\n",
    "#saving all the sample data\n",
    "np.save(r'Data\\X_data.npy', X_data)\n",
    "np.save(r'Data\\y_data.npy', y_data)\n",
    "\n",
    "#loading the sample data\n",
    "X_data = np.load(r'Data\\X_data.npy')\n",
    "y_data = np.load(r'Data\\y_data.npy')"
   ]
  },
  {
   "cell_type": "code",
   "execution_count": null,
   "metadata": {},
   "outputs": [],
   "source": [
    "#creating training, cross-validation, and testing sets\n",
    "X_train, X_new, y_train, y_new = ms.train_test_split(X_data, y_data, test_size = 0.7, random_state = 0)\n",
    "X_crossval, X_test, y_crossval, y_test = ms.train_test_split(X_new, y_new, test_size = 0.3, random_state = 0)\n",
    "\n",
    "val_size = X_crossval.shape[0] #cross-validation set size"
   ]
  },
  {
   "cell_type": "code",
   "execution_count": null,
   "metadata": {},
   "outputs": [],
   "source": [
    "#Augmenting the training images\n",
    "train_datagen = ImageDataGenerator(rescale = 1./255,\n",
    "                                   shear_range = 0.2,\n",
    "                                   zoom_range = 0.2,\n",
    "                                   rotation_range = 20,\n",
    "                                   horizontal_flip = True,\n",
    "                                   vertical_flip = True,)\n",
    "\n",
    "test_datagen = ImageDataGenerator(rescale=1./255)"
   ]
  },
  {
   "cell_type": "code",
   "execution_count": null,
   "metadata": {},
   "outputs": [],
   "source": [
    "#creating training, cross-validation and testing generators\n",
    "train_generator = train_datagen.flow(X_train,\n",
    "                                     y_train,\n",
    "                                     batch_size = 32)\n",
    "\n",
    "val_generator = test_datagen.flow(X_crossval,\n",
    "                                  y_crossval,\n",
    "                                  batch_size = 16)\n",
    "\n",
    "test_generator = test_datagen.flow(X_test,\n",
    "                                   y_test,\n",
    "                                   batch_size = 1)"
   ]
  },
  {
   "cell_type": "code",
   "execution_count": null,
   "metadata": {},
   "outputs": [],
   "source": [
    "#creating model\n",
    "model = cnn_model(h_layers, features, neurons)\n",
    "\n",
    "#training the model\n",
    "history = model.fit_generator(train_generator,\n",
    "                              steps_per_epoch = len(X_train) / 32,\n",
    "                              epochs = 20,\n",
    "                              validation_data = val_generator,\n",
    "                              validation_steps = val_size / 16)\n",
    "\n",
    "#saving the model\n",
    "model.save('cnn_model.h5')\n",
    "\n",
    "#loading the model\n",
    "model = load_model('cnn_model.h5')"
   ]
  },
  {
   "cell_type": "code",
   "execution_count": null,
   "metadata": {},
   "outputs": [],
   "source": [
    "#obtaining accuracy on test set \n",
    "test_acc = model.evaluate_generator(test_generator, steps = len(test_generator))\n",
    "\n",
    "print(model.metrics_names)\n",
    "print('Test Accuracy Obtained: ')\n",
    "print(test_acc[1] * 100, ' %')"
   ]
  },
  {
   "cell_type": "code",
   "execution_count": null,
   "metadata": {},
   "outputs": [],
   "source": [
    "#Plotting Training and Testing accuracies\n",
    "plt.plot(history.history['acc'])\n",
    "plt.plot(history.history['val_acc'])\n",
    "plt.title('model accuracy')\n",
    "plt.ylabel('accuracy')\n",
    "plt.xlabel('epoch')\n",
    "plt.legend(['train', 'val'], loc='best')\n",
    "plt.show()"
   ]
  }
 ],
 "metadata": {
  "kernelspec": {
   "display_name": "Python 3",
   "language": "python",
   "name": "python3"
  },
  "language_info": {
   "codemirror_mode": {
    "name": "ipython",
    "version": 3
   },
   "file_extension": ".py",
   "mimetype": "text/x-python",
   "name": "python",
   "nbconvert_exporter": "python",
   "pygments_lexer": "ipython3",
   "version": "3.7.3"
  }
 },
 "nbformat": 4,
 "nbformat_minor": 2
}
